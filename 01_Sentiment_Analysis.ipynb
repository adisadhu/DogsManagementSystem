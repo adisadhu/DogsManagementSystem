{
  "nbformat": 4,
  "nbformat_minor": 0,
  "metadata": {
    "colab": {
      "provenance": [],
      "include_colab_link": true
    },
    "kernelspec": {
      "name": "python3",
      "display_name": "Python 3"
    },
    "language_info": {
      "name": "python"
    }
  },
  "cells": [
    {
      "cell_type": "markdown",
      "metadata": {
        "id": "view-in-github",
        "colab_type": "text"
      },
      "source": [
        "<a href=\"https://colab.research.google.com/github/adisadhu/DogsManagementSystem/blob/master/01_Sentiment_Analysis.ipynb\" target=\"_parent\"><img src=\"https://colab.research.google.com/assets/colab-badge.svg\" alt=\"Open In Colab\"/></a>"
      ]
    },
    {
      "cell_type": "markdown",
      "source": [
        "<b> Objective: </b> <p> The objective of this worksheet is to introduce participants to the principles and techniques of sentiment analysis, a key component of natural language processing. Participants will learn how to analyze textual data to determine the underlying sentiment, whether positive, negative, or neutral. Through interactive exercises and real-world examples, this worksheet aims to equip learners with the skills necessary to apply sentiment analysis in various contexts such as social media monitoring, customer feedback, market research, and more, enhancing their ability to extract valuable insights from text. </p>"
      ],
      "metadata": {
        "id": "NRkaXUaBihKE"
      }
    },
    {
      "cell_type": "markdown",
      "source": [
        "**Introduction** : Sentiment Analysis is a process to know or guess the emotion behind the text. It is a part of Natural Language Processing (NLP). It catagorizes a text into **3** emotions :\n",
        "\n",
        "*  **Positive**  (*Joy, Pleasure, Enthusiasm, Amusement, Hope, Inspiration, Love*).*italicized text*\n",
        "* **Negative** (*sad, criticism, Anger, Fear, Sadness, Jealousy, Disgust, Frustration, Guilt, Shame* ).\n",
        "* **Neutral** (*Confusion*).\n"
      ],
      "metadata": {
        "id": "vM2L5n5Pil1c"
      }
    },
    {
      "cell_type": "markdown",
      "source": [
        "<center> <b> Postive Sentiments </b> </center>\n",
        "\n",
        "* *Adverbs* such as great, wonderful, efficient, happy, etc.,\n",
        "\n",
        "* Ex: I love this cheese sandwich, it’s so delicious."
      ],
      "metadata": {
        "id": "hyxdr3vHnhSr"
      }
    },
    {
      "cell_type": "markdown",
      "source": [
        "<center> <b> Neutral Sentiments </b> </center>\n",
        "\n",
        "\n",
        "* Adverbs such as Generally, Simply, etc.,\n",
        "* Ex: I ordered this pizza today"
      ],
      "metadata": {
        "id": "fN6zRnD4nhDC"
      }
    },
    {
      "cell_type": "markdown",
      "source": [
        "<b> Requirements: </b>\n",
        "<ol>\n",
        "<li> <i> Transformers </i> - A versatile library from Hugging Face providing state-of-the-art pre-trained models for natural language processing tasks </li>\n",
        "<li> <i> Tensorflow </i> - A comprehensive and flexible machine learning library developed by Google, used for designing, training, and deploying complex deep learning models\n",
        "</ol>"
      ],
      "metadata": {
        "id": "SXiRXMbIngyS"
      }
    },
    {
      "cell_type": "markdown",
      "source": [
        "<b> Steps: </b>\n",
        "<ol>\n",
        "    <li> Install <code>transformers </code> , <code> tensorflow</code>  packages.</li>\n",
        "     <li> Write source code </li>\n",
        "        <p> 2.1 Import <code>transformers </code> , <code> tensorflow</code> modules required to perform sentiment analysis\n",
        "            2.2 Use sentiment-analysis pipeline as classifier <br>\n",
        "            2.3 Enter a sentence or input <br>\n",
        "            2.4 Perform sentiment analysis <br>\n",
        "            2.5 Know the emotion of your statement. <br>\n",
        "            2.6 Perform sentiment-analysis on multiple statements <br>\n",
        "        </p>\n",
        "       \n",
        "</ol>"
      ],
      "metadata": {
        "id": "uWyvAQcinq0-"
      }
    },
    {
      "cell_type": "markdown",
      "source": [
        "<h3> Step 1 : Install <code>transformers </code> , <code> tensorflow</code> packages </h3>"
      ],
      "metadata": {
        "id": "QiekgqbrnxVn"
      }
    },
    {
      "cell_type": "markdown",
      "source": [
        "**Note:** if the following command fails, execute\n",
        "`python -m pip install transformers`"
      ],
      "metadata": {
        "id": "xGsVPwm8nxsA"
      }
    },
    {
      "cell_type": "code",
      "source": [
        "pip install transformers"
      ],
      "metadata": {
        "id": "Wz3rJOFHijIs"
      },
      "execution_count": null,
      "outputs": []
    },
    {
      "cell_type": "code",
      "source": [
        "pip install tensorflow"
      ],
      "metadata": {
        "id": "h--uLYshiuHQ"
      },
      "execution_count": null,
      "outputs": []
    },
    {
      "cell_type": "markdown",
      "source": [
        "<h3>Step 2: Write source code </h3>"
      ],
      "metadata": {
        "id": "S1fPMn5in8ad"
      }
    },
    {
      "cell_type": "markdown",
      "source": [
        "<h4> Step 2.1 : Import <code>transformers </code> , <code> tensorflow</code> modules required to perform sentiment analysis </h4>"
      ],
      "metadata": {
        "id": "-Y9Attmun8W9"
      }
    },
    {
      "cell_type": "code",
      "source": [
        "from transformers import pipeline"
      ],
      "metadata": {
        "id": "Y-YX_t-fivlI"
      },
      "execution_count": null,
      "outputs": []
    },
    {
      "cell_type": "markdown",
      "source": [
        "<h4> Step 2.2 : Use sentiment-analysis pipeline as classifier </h4>"
      ],
      "metadata": {
        "id": "09xvKVGLoCfa"
      }
    },
    {
      "cell_type": "code",
      "source": [
        "classifier = pipeline(\"sentiment-analysis\")"
      ],
      "metadata": {
        "id": "tvrCnoflixWo"
      },
      "execution_count": null,
      "outputs": []
    },
    {
      "cell_type": "markdown",
      "source": [
        "<h4>Step 2.3: Enter a sentence or input </h4>"
      ],
      "metadata": {
        "id": "QJoPbIj6oKBH"
      }
    },
    {
      "cell_type": "code",
      "source": [
        "input_sentence = input(\"Enter your input here: \")"
      ],
      "metadata": {
        "id": "lfQDdRJ2izQi"
      },
      "execution_count": null,
      "outputs": []
    },
    {
      "cell_type": "markdown",
      "source": [
        "<h4>Step 2.4: Perform sentiment analysis </h4>"
      ],
      "metadata": {
        "id": "of0RfTj_oPqN"
      }
    },
    {
      "cell_type": "code",
      "source": [
        "sentiment = classifier(input_sentence)"
      ],
      "metadata": {
        "id": "bd7y0rF0i0uA"
      },
      "execution_count": null,
      "outputs": []
    },
    {
      "cell_type": "markdown",
      "source": [
        "<h4> Step 2.5 : Know the emotion of your statement </h4>"
      ],
      "metadata": {
        "id": "0uAVtsm7oQ7I"
      }
    },
    {
      "cell_type": "code",
      "source": [
        "print(sentiment)"
      ],
      "metadata": {
        "colab": {
          "base_uri": "https://localhost:8080/"
        },
        "id": "UvZkXMYzi1_8",
        "outputId": "1cf3c3ef-2623-4a3f-9f20-1fad273e581c"
      },
      "execution_count": null,
      "outputs": [
        {
          "output_type": "stream",
          "name": "stdout",
          "text": [
            "[{'label': 'POSITIVE', 'score': 0.999108612537384}]\n"
          ]
        }
      ]
    },
    {
      "cell_type": "markdown",
      "source": [
        "<h4> Step 2.6 : Perform sentiment analysis on multiple statements </h4>"
      ],
      "metadata": {
        "id": "fSQVKMPpoUlp"
      }
    },
    {
      "cell_type": "code",
      "source": [
        "data = [\"I love you\", \"I hate you\"]\n",
        "print(classifier(data))"
      ],
      "metadata": {
        "colab": {
          "base_uri": "https://localhost:8080/"
        },
        "id": "X720-inJi3FQ",
        "outputId": "779c3374-fd76-400d-f152-3f79dfb1d972"
      },
      "execution_count": null,
      "outputs": [
        {
          "output_type": "stream",
          "name": "stdout",
          "text": [
            "[{'label': 'POSITIVE', 'score': 0.9998656511306763}, {'label': 'NEGATIVE', 'score': 0.9991129040718079}]\n"
          ]
        }
      ]
    }
  ]
}